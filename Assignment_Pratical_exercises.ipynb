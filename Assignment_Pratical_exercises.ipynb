{
 "cells": [
  {
   "cell_type": "markdown",
   "id": "315df703",
   "metadata": {},
   "source": [
    "# 2 - Variables and Basic Data Types\n",
    "### Exercise:\n",
    "Write a program that asks the user to input their name, age, and favorite\n",
    "number. Store these values in appropriate variables, then print a message that\n",
    "includes all three pieces of information"
   ]
  },
  {
   "cell_type": "code",
   "execution_count": 6,
   "id": "635afaa3",
   "metadata": {},
   "outputs": [
    {
     "name": "stdout",
     "output_type": "stream",
     "text": [
      "Enter your name: Rita\n",
      "Enter your age: Paul\n",
      "Just do it!\n",
      "Enter your favorite number: 5\n",
      "My name is Rita , I am 21 years old and my favorite number is 5 .\n"
     ]
    }
   ],
   "source": [
    "name = str(input(\"Enter your name: \"))\n",
    "try:\n",
    "    age = int(input(\"Enter your age: \"))\n",
    "except:\n",
    "    print(\"Just do it!\")\n",
    "fav_number = int(input(\"Enter your favorite number: \"))\n",
    "print(\"My name is\",name,\",\", \"I am\",age, \"years old and my favorite number is\",fav_number,\".\")"
   ]
  },
  {
   "cell_type": "markdown",
   "id": "5a00467b",
   "metadata": {},
   "source": [
    "# 3 - String Manipulation\n",
    "### Exercise:\n",
    "Ask the user to input a word. Create a new string that repeats this word three\n",
    "times, adds an exclamation mark at the end, and prints the result."
   ]
  },
  {
   "cell_type": "code",
   "execution_count": 7,
   "id": "85946cad",
   "metadata": {},
   "outputs": [
    {
     "name": "stdout",
     "output_type": "stream",
     "text": [
      "Input a word: Build\n",
      "BuildBuildBuild!\n"
     ]
    }
   ],
   "source": [
    "word = str(input(\"Input a word: \"))\n",
    "word = word * 3 \n",
    "word = word + \"!\"\n",
    "print(word)"
   ]
  },
  {
   "cell_type": "markdown",
   "id": "d757d176",
   "metadata": {},
   "source": [
    "# 4 - In-Place Operators\n",
    "### Exercise:\n",
    "Start with a variable x set to 5. Use in-place operators to:\n",
    "• Add 10 to x.\n",
    "• Multiply x by 3.\n",
    "• Subtract 15 from x.\n",
    "• Print the fnal result."
   ]
  },
  {
   "cell_type": "code",
   "execution_count": 1,
   "id": "0ab4aed8",
   "metadata": {},
   "outputs": [
    {
     "name": "stdout",
     "output_type": "stream",
     "text": [
      "30\n"
     ]
    }
   ],
   "source": [
    "x = 5\n",
    "x += 10\n",
    "x *= 3\n",
    "x -= 15\n",
    "print (x)"
   ]
  },
  {
   "cell_type": "markdown",
   "id": "ff157350",
   "metadata": {},
   "source": [
    "# 5 - Booleans\n",
    "### Exercise:\n",
    "Write a program that compares two numbers input by the user. Print True if\n",
    "the frst number is greater than the second, and False otherwise."
   ]
  },
  {
   "cell_type": "code",
   "execution_count": 9,
   "id": "bfc2df0e",
   "metadata": {},
   "outputs": [
    {
     "name": "stdout",
     "output_type": "stream",
     "text": [
      "a = 43\n",
      "b = 21\n",
      "True\n"
     ]
    }
   ],
   "source": [
    "number_1 = float(input(\"a = \"))\n",
    "number_2 = float(input(\"b = \"))\n",
    "if number_1 > number_2:\n",
    "    print(True)\n",
    "else:\n",
    "    print(False)"
   ]
  },
  {
   "cell_type": "markdown",
   "id": "8fff39ba",
   "metadata": {},
   "source": [
    "# 6 - If Statements\n",
    "### Exercise:\n",
    "Create a simple program that checks if a user-entered number is even or odd.\n",
    "Print “Even” if the number is even and “Odd” if it’s not."
   ]
  },
  {
   "cell_type": "code",
   "execution_count": 2,
   "id": "c820dfaf",
   "metadata": {},
   "outputs": [
    {
     "name": "stdout",
     "output_type": "stream",
     "text": [
      "user-entered number: 13\n",
      "Odd\n"
     ]
    }
   ],
   "source": [
    "num = int(input(\"user-entered number: \"))\n",
    "if num % 2 == 0:\n",
    "    print(\"Even\")\n",
    "else:\n",
    "    print(\"Odd\")"
   ]
  },
  {
   "cell_type": "markdown",
   "id": "f67f7cba",
   "metadata": {},
   "source": [
    "# 7 - Loops\n",
    "### Exercise:\n",
    "Write a program that prints the numbers from 1 to 10 using a while loop. Then\n",
    "modify it to print only the even numbers from 1 to 10."
   ]
  },
  {
   "cell_type": "code",
   "execution_count": 1,
   "id": "b937b081",
   "metadata": {},
   "outputs": [
    {
     "name": "stdout",
     "output_type": "stream",
     "text": [
      "1\n",
      "2\n",
      "3\n",
      "4\n",
      "5\n",
      "6\n",
      "7\n",
      "8\n",
      "9\n",
      "10\n"
     ]
    }
   ],
   "source": [
    "y = 1\n",
    "while y <= 10:\n",
    "    print(y)\n",
    "    y += 1"
   ]
  },
  {
   "cell_type": "code",
   "execution_count": 1,
   "id": "d04d61db",
   "metadata": {},
   "outputs": [
    {
     "name": "stdout",
     "output_type": "stream",
     "text": [
      "2\n",
      "4\n",
      "6\n",
      "8\n",
      "10\n"
     ]
    }
   ],
   "source": [
    "y = 1\n",
    "while y <= 10:\n",
    "    if y % 2 == 0:\n",
    "        print(y)\n",
    "    y += 1"
   ]
  },
  {
   "cell_type": "markdown",
   "id": "5671be94",
   "metadata": {},
   "source": [
    "# 8 - Functions and Arguments\n",
    "### Exercise:\n",
    "Define a function greet user(name) that takes a user’s name as an argument and\n",
    "prints a personalized greeting. Call the function with at least three diﬀerent\n",
    "names."
   ]
  },
  {
   "cell_type": "code",
   "execution_count": 11,
   "id": "3bb9f739",
   "metadata": {},
   "outputs": [
    {
     "name": "stdout",
     "output_type": "stream",
     "text": [
      "Good Morning Marc\n",
      "Good Morning Jeanne\n",
      "Good Morning Josué\n"
     ]
    }
   ],
   "source": [
    "def greet_user(name):\n",
    "    print(\"Good Morning \" + name)\n",
    "greet_user(\"Marc\") \n",
    "greet_user(\"Jeanne\")\n",
    "greet_user(\"Josué\")   "
   ]
  },
  {
   "cell_type": "markdown",
   "id": "17657e9f",
   "metadata": {},
   "source": [
    "# 9 - Returning from Functions\n",
    "### Exercise:\n",
    "Create a function multiply numbers(a, b) that returns the product of two numbers. Use this function to multiply three diﬀerent pairs of numbers, and print\n",
    "the results."
   ]
  },
  {
   "cell_type": "code",
   "execution_count": 11,
   "id": "697a3f11",
   "metadata": {},
   "outputs": [
    {
     "name": "stdout",
     "output_type": "stream",
     "text": [
      "56 36 110\n"
     ]
    },
    {
     "data": {
      "text/plain": [
       "int"
      ]
     },
     "execution_count": 11,
     "metadata": {},
     "output_type": "execute_result"
    }
   ],
   "source": [
    "def multiply_number(x,y):\n",
    "    return(x*y)\n",
    "x1 = multiply_number(7,8)\n",
    "x2 = multiply_number(9,4)\n",
    "x3 = multiply_number(11,10)\n",
    "print(x1, x2, x3)\n",
    "type(x1)"
   ]
  },
  {
   "cell_type": "markdown",
   "id": "340a7018",
   "metadata": {},
   "source": [
    "# 10 - Github\n",
    "### Exercise:\n",
    "1 • What is GitHub?\n",
    "\n",
    " • What is the diﬀerence between Git and GitHub?\n",
    "\n",
    "2 • What is GitHub used for, and why is it important?\n",
    "\n",
    " • Create a GitHub repository named Python for Beginners.\n",
    "\n",
    " • Upload your notebook to the GitHub repository.\n",
    "\n",
    " • Convert your notebook to a .py file and upload it to GitHub."
   ]
  },
  {
   "cell_type": "markdown",
   "id": "ad483515",
   "metadata": {},
   "source": [
    "#### 1.  GitHub: is an online software development platform where people store, track and collaborate on software projects.\n",
    "- The difference between Git and GitHub is that: Git is a free, open source version control tool that developers install locally on their personal computers, while GitHub is a pay-for-use online service built to run Git in the cloud. \n",
    "2. GitHub allows software developers and engineers to create remote, public-facing repositories on the cloud for free.\n",
    "- GitHub is important because it allows collaoration with developers from all over the world, its also enables potential developers to contribute and share their knowledge to benefit the global community.\n"
   ]
  }
 ],
 "metadata": {
  "kernelspec": {
   "display_name": "Python 3 (ipykernel)",
   "language": "python",
   "name": "python3"
  },
  "language_info": {
   "codemirror_mode": {
    "name": "ipython",
    "version": 3
   },
   "file_extension": ".py",
   "mimetype": "text/x-python",
   "name": "python",
   "nbconvert_exporter": "python",
   "pygments_lexer": "ipython3",
   "version": "3.11.5"
  }
 },
 "nbformat": 4,
 "nbformat_minor": 5
}
