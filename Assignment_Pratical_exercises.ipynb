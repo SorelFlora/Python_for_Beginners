{
 "cells": [
  {
   "cell_type": "markdown",
   "id": "97f9c3d5",
   "metadata": {},
   "source": [
    "# 2 - Variables and Basic Data Types\n",
    "### Exercise:\n",
    "Write a program that asks the user to input their name, age, and favorite\n",
    "number. Store these values in appropriate variables, then print a message that\n",
    "includes all three pieces of information"
   ]
  },
  {
   "cell_type": "code",
   "execution_count": 6,
   "id": "2c0eb4a2",
   "metadata": {},
   "outputs": [
    {
     "name": "stdout",
     "output_type": "stream",
     "text": [
      "Enter your name: Flora\n",
      "Enter your age: 21\n",
      "Enter your favorite number: 7\n",
      "My name is Flora , I am 21 years old and my favorite number is 7 .\n"
     ]
    }
   ],
   "source": [
    "name = input(\"Enter your name: \")\n",
    "age = input(\"Enter your age: \")\n",
    "fav_number = input(\"Enter your favorite number: \")\n",
    "print(\"My name is\",name,\",\", \"I am\",age, \"years old and my favorite number is\",fav_number,\".\")"
   ]
  },
  {
   "cell_type": "markdown",
   "id": "31fb3fc9",
   "metadata": {},
   "source": [
    "# 3 - String Manipulation\n",
    "### Exercise:\n",
    "Ask the user to input a word. Create a new string that repeats this word three\n",
    "times, adds an exclamation mark at the end, and prints the result."
   ]
  },
  {
   "cell_type": "code",
   "execution_count": 7,
   "id": "8041722a",
   "metadata": {},
   "outputs": [
    {
     "name": "stdout",
     "output_type": "stream",
     "text": [
      "Input a word: Build\n",
      "BuildBuildBuild!\n"
     ]
    }
   ],
   "source": [
    "word = input(\"Input a word: \")\n",
    "word = word * 3 \n",
    "word = word + \"!\"\n",
    "print(word)"
   ]
  },
  {
   "cell_type": "markdown",
   "id": "7bf5b418",
   "metadata": {},
   "source": [
    "# 4 - In-Place Operators\n",
    "### Exercise:\n",
    "Start with a variable x set to 5. Use in-place operators to:\n",
    "• Add 10 to x.\n",
    "• Multiply x by 3.\n",
    "• Subtract 15 from x.\n",
    "• Print the fnal result."
   ]
  },
  {
   "cell_type": "code",
   "execution_count": 1,
   "id": "c8e39397",
   "metadata": {},
   "outputs": [
    {
     "name": "stdout",
     "output_type": "stream",
     "text": [
      "30\n"
     ]
    }
   ],
   "source": [
    "x = 5\n",
    "x += 10\n",
    "x *= 3\n",
    "x -= 15\n",
    "print (x)"
   ]
  },
  {
   "cell_type": "markdown",
   "id": "531598be",
   "metadata": {},
   "source": [
    "# 5 - Booleans\n",
    "### Exercise:\n",
    "Write a program that compares two numbers input by the user. Print True if\n",
    "the frst number is greater than the second, and False otherwise."
   ]
  },
  {
   "cell_type": "code",
   "execution_count": 9,
   "id": "dfca5d7a",
   "metadata": {},
   "outputs": [
    {
     "name": "stdout",
     "output_type": "stream",
     "text": [
      "a = 43\n",
      "b = 21\n",
      "True\n"
     ]
    }
   ],
   "source": [
    "number_1 = float(input(\"a = \"))\n",
    "number_2 = float(input(\"b = \"))\n",
    "if number_1 > number_2:\n",
    "    print(True)\n",
    "else:\n",
    "    print(False)"
   ]
  },
  {
   "cell_type": "markdown",
   "id": "28ac8a67",
   "metadata": {},
   "source": [
    "# 6 - If Statements\n",
    "### Exercise:\n",
    "Create a simple program that checks if a user-entered number is even or odd.\n",
    "Print “Even” if the number is even and “Odd” if it’s not."
   ]
  },
  {
   "cell_type": "code",
   "execution_count": 2,
   "id": "d5c1f42e",
   "metadata": {},
   "outputs": [
    {
     "name": "stdout",
     "output_type": "stream",
     "text": [
      "user-entered number: 13\n",
      "Odd\n"
     ]
    }
   ],
   "source": [
    "num = int(input(\"user-entered number: \"))\n",
    "if num % 2 == 0:\n",
    "    print(\"Even\")\n",
    "else:\n",
    "    print(\"Odd\")"
   ]
  },
  {
   "cell_type": "markdown",
   "id": "91a4cee7",
   "metadata": {},
   "source": [
    "# 7 - Loops\n",
    "### Exercise:\n",
    "Write a program that prints the numbers from 1 to 10 using a while loop. Then\n",
    "modify it to print only the even numbers from 1 to 10."
   ]
  },
  {
   "cell_type": "code",
   "execution_count": 19,
   "id": "34c25ef8",
   "metadata": {},
   "outputs": [
    {
     "name": "stdout",
     "output_type": "stream",
     "text": [
      "1\n",
      "2\n",
      "3\n",
      "4\n",
      "5\n",
      "6\n",
      "7\n",
      "8\n",
      "9\n",
      "10\n"
     ]
    }
   ],
   "source": [
    "y = 1\n",
    "while y <= 10:\n",
    "    print(y)\n",
    "    y += 1"
   ]
  },
  {
   "cell_type": "code",
   "execution_count": 1,
   "id": "1025c1de",
   "metadata": {},
   "outputs": [
    {
     "name": "stdout",
     "output_type": "stream",
     "text": [
      "2\n",
      "4\n",
      "6\n",
      "8\n",
      "10\n"
     ]
    }
   ],
   "source": [
    "y = 1\n",
    "while y <= 10:\n",
    "    if y % 2 == 0:\n",
    "        print(y)\n",
    "    y += 1"
   ]
  },
  {
   "cell_type": "markdown",
   "id": "81479fc3",
   "metadata": {},
   "source": [
    "# 8 - Functions and Arguments\n",
    "### Exercise:\n",
    "Define a function greet user(name) that takes a user’s name as an argument and\n",
    "prints a personalized greeting. Call the function with at least three diﬀerent\n",
    "names."
   ]
  },
  {
   "cell_type": "code",
   "execution_count": 11,
   "id": "ec3233b4",
   "metadata": {},
   "outputs": [
    {
     "name": "stdout",
     "output_type": "stream",
     "text": [
      "Good Morning Marc\n",
      "Good Morning Jeanne\n",
      "Good Morning Josué\n"
     ]
    }
   ],
   "source": [
    "def greet_user(name):\n",
    "    print(\"Good Morning \" + name)\n",
    "greet_user(\"Marc\") \n",
    "greet_user(\"Jeanne\")\n",
    "greet_user(\"Josué\")   "
   ]
  },
  {
   "cell_type": "markdown",
   "id": "f6cd2115",
   "metadata": {},
   "source": [
    "# 9 - Returning from Functions\n",
    "### Exercise:\n",
    "Create a function multiply numbers(a, b) that returns the product of two numbers. Use this function to multiply three diﬀerent pairs of numbers, and print\n",
    "the results."
   ]
  },
  {
   "cell_type": "code",
   "execution_count": 14,
   "id": "f7716eac",
   "metadata": {},
   "outputs": [
    {
     "name": "stdout",
     "output_type": "stream",
     "text": [
      "56 36 110\n"
     ]
    }
   ],
   "source": [
    "def multiply_number(x,y):\n",
    "    return(x*y)\n",
    "x1 = multiply_number(7,8)\n",
    "x2 = multiply_number(9,4)\n",
    "x3 = multiply_number(11,10)\n",
    "print(x1, x2, x3)"
   ]
  },
  {
   "cell_type": "markdown",
   "id": "d6e85524",
   "metadata": {},
   "source": [
    "# 10 - Github\n",
    "### Exercise:\n",
    "1 • What is GitHub?\n",
    "\n",
    " • What is the diﬀerence between Git and GitHub?\n",
    "\n",
    "2 • What is GitHub used for, and why is it important?\n",
    "\n",
    " • Create a GitHub repository named Python for Beginners.\n",
    "\n",
    " • Upload your notebook to the GitHub repository.\n",
    "\n",
    " • Convert your notebook to a .py fle and upload it to GitHub."
   ]
  },
  {
   "cell_type": "markdown",
   "id": "783821bd",
   "metadata": {},
   "source": [
    "#### 1.  GitHub: is an online software development platform where people store, track and collaborate on software projects.\n",
    "- The difference between Git and GitHub is that: Git is a free, open source version control tool that developers install locally on their personal computers, while GitHub is a pay-for-use online service built to run Git in the cloud. \n",
    "2. GitHub allows software developers and engineers to create remote, public-facing repositories on the cloud for free.\n",
    "- GitHub is important because it allows collaoration with developers from all over the world, its also enables potential developers to contribute and share their knowledge to benefit the global community.\n"
   ]
  }
 ],
 "metadata": {
  "kernelspec": {
   "display_name": "Python 3 (ipykernel)",
   "language": "python",
   "name": "python3"
  },
  "language_info": {
   "codemirror_mode": {
    "name": "ipython",
    "version": 3
   },
   "file_extension": ".py",
   "mimetype": "text/x-python",
   "name": "python",
   "nbconvert_exporter": "python",
   "pygments_lexer": "ipython3",
   "version": "3.11.5"
  }
 },
 "nbformat": 4,
 "nbformat_minor": 5
}
